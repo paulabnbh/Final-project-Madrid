{
 "cells": [
  {
   "cell_type": "code",
   "execution_count": 5,
   "id": "efe369b9",
   "metadata": {},
   "outputs": [],
   "source": [
    "import pandas as pd\n",
    "import numpy as np\n",
    "import pandas as pd\n",
    "import geopandas as gpd\n",
    "import folium\n",
    "import matplotlib.pyplot as plt\n",
    "pd.set_option('display.max_columns', None)\n",
    "pd.set_option('display.max_rows', None)"
   ]
  },
  {
   "cell_type": "code",
   "execution_count": 11,
   "id": "c5e18c8e",
   "metadata": {},
   "outputs": [],
   "source": [
    "hotel = pd.read_csv('../../hoteles/hoteles-mad-dummies.csv')\n",
    "restaurantes = pd.read_csv('../../restaurantes/restaurantes-mad-dummies.csv')\n",
    "planes = pd.read_csv('../../turismo/turismo-mad-dummies.csv')\n",
    "geo = gpd.read_file('../../proyecto/mapa-madrid/limites-barrios-madrid.geojson')"
   ]
  },
  {
   "cell_type": "code",
   "execution_count": 12,
   "id": "535540da",
   "metadata": {},
   "outputs": [],
   "source": [
    "planes.insert(6, 'punto', 0)"
   ]
  },
  {
   "cell_type": "code",
   "execution_count": 13,
   "id": "8c4a8c2c",
   "metadata": {},
   "outputs": [],
   "source": [
    "planes['punto'] = gpd.GeoSeries.from_xy(planes.long, planes.lat)"
   ]
  },
  {
   "cell_type": "code",
   "execution_count": null,
   "id": "331a67d2",
   "metadata": {},
   "outputs": [],
   "source": []
  },
  {
   "cell_type": "code",
   "execution_count": 14,
   "id": "c149abc1",
   "metadata": {},
   "outputs": [],
   "source": [
    "barrio = []\n",
    "            \n",
    "for p in planes.punto:\n",
    "    \n",
    "    encontrado = False\n",
    "    \n",
    "    for i, poly in enumerate(geo.geometry):\n",
    "        if poly.contains(p):\n",
    "            barrio.append(geo.name[i])\n",
    "            encontrado = True\n",
    "            break\n",
    "            \n",
    "    if not encontrado:\n",
    "        barrio.append(\"Barrio no encontrado\")\n"
   ]
  },
  {
   "cell_type": "code",
   "execution_count": 15,
   "id": "76f0ee29",
   "metadata": {},
   "outputs": [],
   "source": [
    "planes.insert(4, 'barrio', barrio)"
   ]
  },
  {
   "cell_type": "code",
   "execution_count": 16,
   "id": "81f4969a",
   "metadata": {},
   "outputs": [],
   "source": [
    "hotel.insert(7, 'punto', 0)"
   ]
  },
  {
   "cell_type": "code",
   "execution_count": 17,
   "id": "b6b4b058",
   "metadata": {},
   "outputs": [],
   "source": [
    "hotel['punto'] = gpd.GeoSeries.from_xy(hotel.long, hotel.lat)"
   ]
  },
  {
   "cell_type": "code",
   "execution_count": 18,
   "id": "862f4500",
   "metadata": {},
   "outputs": [],
   "source": [
    "barrio1 = []\n",
    "            \n",
    "for p in hotel.punto:\n",
    "    \n",
    "    encontrado = False\n",
    "    \n",
    "    for i, poly in enumerate(geo.geometry):\n",
    "        if poly.contains(p):\n",
    "            barrio1.append(geo.name[i])\n",
    "            encontrado = True\n",
    "            break\n",
    "            \n",
    "    if not encontrado:\n",
    "        barrio1.append(\"Barrio no encontrado\")"
   ]
  },
  {
   "cell_type": "code",
   "execution_count": 19,
   "id": "14072422",
   "metadata": {},
   "outputs": [],
   "source": [
    "hotel.insert(5, 'barrio', barrio1)"
   ]
  },
  {
   "cell_type": "code",
   "execution_count": 20,
   "id": "9bf19789",
   "metadata": {},
   "outputs": [],
   "source": [
    "restaurantes.insert(7, 'punto', 0)"
   ]
  },
  {
   "cell_type": "code",
   "execution_count": 21,
   "id": "ed11d7a8",
   "metadata": {},
   "outputs": [],
   "source": [
    "restaurantes['punto'] = gpd.GeoSeries.from_xy(restaurantes.long, restaurantes.lat)"
   ]
  },
  {
   "cell_type": "code",
   "execution_count": 22,
   "id": "dbf26fca",
   "metadata": {},
   "outputs": [],
   "source": [
    "barrio2 = []\n",
    "            \n",
    "for p in restaurantes.punto:\n",
    "    \n",
    "    encontrado = False\n",
    "    \n",
    "    for i, poly in enumerate(geo.geometry):\n",
    "        if poly.contains(p):\n",
    "            barrio2.append(geo.name[i])\n",
    "            encontrado = True\n",
    "            break\n",
    "            \n",
    "    if not encontrado:\n",
    "        barrio2.append(\"Barrio no encontrado\")"
   ]
  },
  {
   "cell_type": "code",
   "execution_count": 23,
   "id": "f5cb9e5e",
   "metadata": {},
   "outputs": [],
   "source": [
    "restaurantes.insert(3, 'barrio', barrio2)"
   ]
  },
  {
   "cell_type": "code",
   "execution_count": 24,
   "id": "6069b519",
   "metadata": {},
   "outputs": [],
   "source": [
    "planes = planes[['nombre','puntuacion','barrio','lat', 'long']]\n",
    "hotel = hotel[['nombre','puntuacion','barrio','lat', 'long']]\n",
    "restaurantes = restaurantes[['nombre','puntuacion','barrio','lat', 'long']]"
   ]
  },
  {
   "cell_type": "code",
   "execution_count": 25,
   "id": "b846375f",
   "metadata": {},
   "outputs": [],
   "source": [
    "restaurantes.insert(1,'tipo', 'Restaurante')\n",
    "hotel.insert(1, 'tipo', 'Hotel')\n",
    "planes.insert(1, 'tipo', 'Ocio')"
   ]
  },
  {
   "cell_type": "code",
   "execution_count": 36,
   "id": "414b7072",
   "metadata": {},
   "outputs": [
    {
     "data": {
      "text/html": [
       "<div>\n",
       "<style scoped>\n",
       "    .dataframe tbody tr th:only-of-type {\n",
       "        vertical-align: middle;\n",
       "    }\n",
       "\n",
       "    .dataframe tbody tr th {\n",
       "        vertical-align: top;\n",
       "    }\n",
       "\n",
       "    .dataframe thead th {\n",
       "        text-align: right;\n",
       "    }\n",
       "</style>\n",
       "<table border=\"1\" class=\"dataframe\">\n",
       "  <thead>\n",
       "    <tr style=\"text-align: right;\">\n",
       "      <th></th>\n",
       "      <th>nombre</th>\n",
       "      <th>tipo</th>\n",
       "      <th>puntuacion</th>\n",
       "      <th>barrio</th>\n",
       "      <th>lat</th>\n",
       "      <th>long</th>\n",
       "    </tr>\n",
       "  </thead>\n",
       "  <tbody>\n",
       "    <tr>\n",
       "      <th>0</th>\n",
       "      <td>Spicy Soul Hot Pot</td>\n",
       "      <td>Restaurante</td>\n",
       "      <td>5,0</td>\n",
       "      <td>Castellana</td>\n",
       "      <td>40.435127</td>\n",
       "      <td>-3.684034</td>\n",
       "    </tr>\n",
       "    <tr>\n",
       "      <th>1</th>\n",
       "      <td>Los Montes de Galicia</td>\n",
       "      <td>Restaurante</td>\n",
       "      <td>5,0</td>\n",
       "      <td>Guindalera</td>\n",
       "      <td>40.434746</td>\n",
       "      <td>-3.668260</td>\n",
       "    </tr>\n",
       "    <tr>\n",
       "      <th>2</th>\n",
       "      <td>Empanadas Malvón</td>\n",
       "      <td>Restaurante</td>\n",
       "      <td>5,0</td>\n",
       "      <td>Trafalgar</td>\n",
       "      <td>40.431938</td>\n",
       "      <td>-3.698437</td>\n",
       "    </tr>\n",
       "    <tr>\n",
       "      <th>3</th>\n",
       "      <td>Pastamore</td>\n",
       "      <td>Restaurante</td>\n",
       "      <td>5,0</td>\n",
       "      <td>Jerónimos</td>\n",
       "      <td>40.420696</td>\n",
       "      <td>-3.685145</td>\n",
       "    </tr>\n",
       "    <tr>\n",
       "      <th>4</th>\n",
       "      <td>Amazonia Brunch And Cocktail</td>\n",
       "      <td>Restaurante</td>\n",
       "      <td>5,0</td>\n",
       "      <td>Universidad</td>\n",
       "      <td>40.422791</td>\n",
       "      <td>-3.703948</td>\n",
       "    </tr>\n",
       "  </tbody>\n",
       "</table>\n",
       "</div>"
      ],
      "text/plain": [
       "                         nombre         tipo puntuacion       barrio  \\\n",
       "0            Spicy Soul Hot Pot  Restaurante       5,0    Castellana   \n",
       "1         Los Montes de Galicia  Restaurante       5,0    Guindalera   \n",
       "2              Empanadas Malvón  Restaurante       5,0     Trafalgar   \n",
       "3                     Pastamore  Restaurante       5,0     Jerónimos   \n",
       "4  Amazonia Brunch And Cocktail  Restaurante       5,0   Universidad   \n",
       "\n",
       "         lat      long  \n",
       "0  40.435127 -3.684034  \n",
       "1  40.434746 -3.668260  \n",
       "2  40.431938 -3.698437  \n",
       "3  40.420696 -3.685145  \n",
       "4  40.422791 -3.703948  "
      ]
     },
     "execution_count": 36,
     "metadata": {},
     "output_type": "execute_result"
    }
   ],
   "source": [
    "restaurantes.head()"
   ]
  },
  {
   "cell_type": "code",
   "execution_count": 26,
   "id": "5b98d551",
   "metadata": {},
   "outputs": [],
   "source": [
    "mapa_madrid = pd.concat([restaurantes, hotel, planes], axis = 0)"
   ]
  },
  {
   "cell_type": "code",
   "execution_count": 27,
   "id": "18c2fca7",
   "metadata": {},
   "outputs": [
    {
     "name": "stdout",
     "output_type": "stream",
     "text": [
      "<class 'pandas.core.frame.DataFrame'>\n",
      "RangeIndex: 1543 entries, 0 to 1542\n",
      "Data columns (total 6 columns):\n",
      " #   Column      Non-Null Count  Dtype  \n",
      "---  ------      --------------  -----  \n",
      " 0   nombre      1543 non-null   object \n",
      " 1   tipo        1543 non-null   object \n",
      " 2   puntuacion  1543 non-null   object \n",
      " 3   barrio      1543 non-null   object \n",
      " 4   lat         1543 non-null   float64\n",
      " 5   long        1543 non-null   float64\n",
      "dtypes: float64(2), object(4)\n",
      "memory usage: 452.2 KB\n"
     ]
    }
   ],
   "source": [
    "planes.info(memory_usage='deep')"
   ]
  },
  {
   "cell_type": "code",
   "execution_count": 28,
   "id": "8f3d8238",
   "metadata": {},
   "outputs": [],
   "source": [
    "for c in planes.select_dtypes('float'):\n",
    "    \n",
    "    planes[c]=pd.to_numeric(planes[c], downcast='float')\n"
   ]
  },
  {
   "cell_type": "code",
   "execution_count": 29,
   "id": "27a282cf",
   "metadata": {},
   "outputs": [
    {
     "name": "stdout",
     "output_type": "stream",
     "text": [
      "<class 'pandas.core.frame.DataFrame'>\n",
      "RangeIndex: 716 entries, 0 to 715\n",
      "Data columns (total 6 columns):\n",
      " #   Column      Non-Null Count  Dtype  \n",
      "---  ------      --------------  -----  \n",
      " 0   nombre      716 non-null    object \n",
      " 1   tipo        716 non-null    object \n",
      " 2   puntuacion  716 non-null    object \n",
      " 3   barrio      716 non-null    object \n",
      " 4   lat         716 non-null    float64\n",
      " 5   long        716 non-null    float64\n",
      "dtypes: float64(2), object(4)\n",
      "memory usage: 205.9 KB\n"
     ]
    }
   ],
   "source": [
    "hotel.info(memory_usage='deep')"
   ]
  },
  {
   "cell_type": "code",
   "execution_count": 30,
   "id": "60131a95",
   "metadata": {},
   "outputs": [],
   "source": [
    "for c in hotel.select_dtypes('float'):\n",
    "    \n",
    "    hotel[c]=pd.to_numeric(hotel[c], downcast='float')\n"
   ]
  },
  {
   "cell_type": "code",
   "execution_count": 31,
   "id": "60bca7ff",
   "metadata": {},
   "outputs": [
    {
     "name": "stdout",
     "output_type": "stream",
     "text": [
      "<class 'pandas.core.frame.DataFrame'>\n",
      "RangeIndex: 6308 entries, 0 to 6307\n",
      "Data columns (total 6 columns):\n",
      " #   Column      Non-Null Count  Dtype  \n",
      "---  ------      --------------  -----  \n",
      " 0   nombre      6308 non-null   object \n",
      " 1   tipo        6308 non-null   object \n",
      " 2   puntuacion  6308 non-null   object \n",
      " 3   barrio      6308 non-null   object \n",
      " 4   lat         6308 non-null   float64\n",
      " 5   long        6308 non-null   float64\n",
      "dtypes: float64(2), object(4)\n",
      "memory usage: 1.8 MB\n"
     ]
    }
   ],
   "source": [
    "restaurantes.info(memory_usage='deep')"
   ]
  },
  {
   "cell_type": "code",
   "execution_count": 32,
   "id": "987ef3be",
   "metadata": {},
   "outputs": [],
   "source": [
    "for c in restaurantes.select_dtypes('float'):\n",
    "    \n",
    "    restaurantes[c]=pd.to_numeric(restaurantes[c], downcast='float')\n",
    "    "
   ]
  },
  {
   "cell_type": "code",
   "execution_count": 33,
   "id": "4e180657",
   "metadata": {},
   "outputs": [],
   "source": [
    "mapa = folium.Map(location=[40.4167278, -3.7033387], zoom_start=15, tiles = 'Stamen Terrain')"
   ]
  },
  {
   "cell_type": "code",
   "execution_count": 34,
   "id": "59475a2a",
   "metadata": {},
   "outputs": [],
   "source": [
    "for i in range(0, len(restaurantes)):\n",
    "\n",
    "    popup_txt = folium.Popup(restaurantes.nombre[i], restaurantes.tipo[i])\n",
    "\n",
    "    folium.Marker([float(restaurantes.lat[i]), float(restaurantes.long[i])], \n",
    "                        popup=popup_txt,\n",
    "                        icon = folium.Icon(color = 'pink')).add_to(mapa)\n",
    "\n",
    "for i in range(0, len(hotel)):\n",
    "\n",
    "    popup_txt = folium.Popup(hotel.nombre[i], hotel.tipo[i])\n",
    "\n",
    "    folium.Marker([float(hotel.lat[i]), float(hotel.long[i])], \n",
    "                        popup=popup_txt,\n",
    "                        icon = folium.Icon(color = 'green')).add_to(mapa)\n",
    "\n",
    "for i in range(0, len(planes)):\n",
    "\n",
    "    popup_txt = folium.Popup(planes.nombre[i], planes.tipo[i])\n",
    "\n",
    "    folium.Marker([float(planes.lat[i]), float(planes.long[i])], \n",
    "                        popup=popup_txt,\n",
    "                        icon = folium.Icon(color = 'green')).add_to(mapa)\n"
   ]
  },
  {
   "cell_type": "code",
   "execution_count": 35,
   "id": "e62c456b",
   "metadata": {},
   "outputs": [],
   "source": [
    "mapa.save('../mapa-madrid/mapa.html')"
   ]
  },
  {
   "cell_type": "code",
   "execution_count": 37,
   "id": "b20c584a",
   "metadata": {},
   "outputs": [],
   "source": [
    "rest = restaurantes.sample(n=10)\n",
    "hoteles = hotel.sample(n=10)\n",
    "ocio = planes.sample(n=10)\n"
   ]
  },
  {
   "cell_type": "code",
   "execution_count": 38,
   "id": "1f1157e2",
   "metadata": {},
   "outputs": [],
   "source": [
    "ocio.to_csv('planes_mapa.csv', index = False)\n",
    "hoteles.to_csv('hotel_mapa.csv', index = False)\n",
    "rest.to_csv('restaurantes_mapa.csv', index = False)\n",
    "mapa_madrid.to_csv('mapa_madrid.csv', index = False)"
   ]
  },
  {
   "cell_type": "code",
   "execution_count": null,
   "id": "e76de3f6",
   "metadata": {},
   "outputs": [],
   "source": []
  },
  {
   "cell_type": "code",
   "execution_count": null,
   "id": "dfa7b716",
   "metadata": {},
   "outputs": [],
   "source": []
  }
 ],
 "metadata": {
  "kernelspec": {
   "display_name": "Python 3 (ipykernel)",
   "language": "python",
   "name": "python3"
  },
  "language_info": {
   "codemirror_mode": {
    "name": "ipython",
    "version": 3
   },
   "file_extension": ".py",
   "mimetype": "text/x-python",
   "name": "python",
   "nbconvert_exporter": "python",
   "pygments_lexer": "ipython3",
   "version": "3.9.13"
  }
 },
 "nbformat": 4,
 "nbformat_minor": 5
}
