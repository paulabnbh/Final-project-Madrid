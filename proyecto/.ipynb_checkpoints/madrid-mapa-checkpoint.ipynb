{
 "cells": [
  {
   "cell_type": "code",
   "execution_count": 66,
   "id": "e0051b70",
   "metadata": {},
   "outputs": [],
   "source": [
    "import pandas as pd\n",
    "import numpy as np\n",
    "import pandas as pd\n",
    "pd.set_option('display.max_columns', None)\n",
    "pd.set_option('display.max_rows', None)"
   ]
  },
  {
   "cell_type": "code",
   "execution_count": 67,
   "id": "a5ccc2df",
   "metadata": {},
   "outputs": [],
   "source": [
    "hotel = pd.read_csv('../hoteles/hoteles-mad-dummies.csv')\n",
    "restaurantes = pd.read_csv('../restaurantes/restaurantes-mad-dummies.csv')\n",
    "planes = pd.read_csv('../turismo/turismo-mad-dummies.csv')"
   ]
  },
  {
   "cell_type": "code",
   "execution_count": 68,
   "id": "9172f0b8",
   "metadata": {},
   "outputs": [],
   "source": [
    "planes = planes[['nombre','puntuacion','lat', 'long']]"
   ]
  },
  {
   "cell_type": "code",
   "execution_count": 69,
   "id": "da3220ad",
   "metadata": {},
   "outputs": [],
   "source": [
    "hotel = hotel[['nombre','puntuacion','lat', 'long']]"
   ]
  },
  {
   "cell_type": "code",
   "execution_count": 70,
   "id": "7b01ecde",
   "metadata": {},
   "outputs": [],
   "source": [
    "restaurantes = restaurantes[['nombre','puntuacion','lat', 'long']]"
   ]
  },
  {
   "cell_type": "code",
   "execution_count": 71,
   "id": "f005651c",
   "metadata": {},
   "outputs": [],
   "source": [
    "madrid_mapa = pd.concat([restaurantes, hotel, planes], axis = 0)"
   ]
  },
  {
   "cell_type": "code",
   "execution_count": 73,
   "id": "6c8a9633",
   "metadata": {},
   "outputs": [],
   "source": [
    "madrid_mapa = madrid_mapa.reset_index(drop = True)"
   ]
  },
  {
   "cell_type": "code",
   "execution_count": 74,
   "id": "29e94def",
   "metadata": {},
   "outputs": [
    {
     "data": {
      "text/plain": [
       "nombre        0\n",
       "puntuacion    0\n",
       "lat           0\n",
       "long          0\n",
       "dtype: int64"
      ]
     },
     "execution_count": 74,
     "metadata": {},
     "output_type": "execute_result"
    }
   ],
   "source": [
    "madrid_mapa.isna().sum()"
   ]
  },
  {
   "cell_type": "code",
   "execution_count": 75,
   "id": "0a344653",
   "metadata": {},
   "outputs": [],
   "source": [
    "madrid_mapa.to_csv('../proyecto/madrid_mapa.csv', index = False)"
   ]
  },
  {
   "cell_type": "code",
   "execution_count": 76,
   "id": "637c4960",
   "metadata": {},
   "outputs": [
    {
     "data": {
      "text/html": [
       "<div>\n",
       "<style scoped>\n",
       "    .dataframe tbody tr th:only-of-type {\n",
       "        vertical-align: middle;\n",
       "    }\n",
       "\n",
       "    .dataframe tbody tr th {\n",
       "        vertical-align: top;\n",
       "    }\n",
       "\n",
       "    .dataframe thead th {\n",
       "        text-align: right;\n",
       "    }\n",
       "</style>\n",
       "<table border=\"1\" class=\"dataframe\">\n",
       "  <thead>\n",
       "    <tr style=\"text-align: right;\">\n",
       "      <th></th>\n",
       "      <th>nombre</th>\n",
       "      <th>puntuacion</th>\n",
       "      <th>lat</th>\n",
       "      <th>long</th>\n",
       "    </tr>\n",
       "  </thead>\n",
       "  <tbody>\n",
       "    <tr>\n",
       "      <th>0</th>\n",
       "      <td>Spicy Soul Hot Pot</td>\n",
       "      <td>5,0</td>\n",
       "      <td>40.435128</td>\n",
       "      <td>-3.684034</td>\n",
       "    </tr>\n",
       "    <tr>\n",
       "      <th>1</th>\n",
       "      <td>Los Montes de Galicia</td>\n",
       "      <td>5,0</td>\n",
       "      <td>40.434747</td>\n",
       "      <td>-3.668260</td>\n",
       "    </tr>\n",
       "    <tr>\n",
       "      <th>2</th>\n",
       "      <td>Empanadas Malvón</td>\n",
       "      <td>5,0</td>\n",
       "      <td>40.431937</td>\n",
       "      <td>-3.698437</td>\n",
       "    </tr>\n",
       "    <tr>\n",
       "      <th>3</th>\n",
       "      <td>Pastamore</td>\n",
       "      <td>5,0</td>\n",
       "      <td>40.420697</td>\n",
       "      <td>-3.685145</td>\n",
       "    </tr>\n",
       "    <tr>\n",
       "      <th>4</th>\n",
       "      <td>Amazonia Brunch And Cocktail</td>\n",
       "      <td>5,0</td>\n",
       "      <td>40.422789</td>\n",
       "      <td>-3.703948</td>\n",
       "    </tr>\n",
       "  </tbody>\n",
       "</table>\n",
       "</div>"
      ],
      "text/plain": [
       "                         nombre puntuacion        lat      long\n",
       "0            Spicy Soul Hot Pot       5,0   40.435128 -3.684034\n",
       "1         Los Montes de Galicia       5,0   40.434747 -3.668260\n",
       "2              Empanadas Malvón       5,0   40.431937 -3.698437\n",
       "3                     Pastamore       5,0   40.420697 -3.685145\n",
       "4  Amazonia Brunch And Cocktail       5,0   40.422789 -3.703948"
      ]
     },
     "execution_count": 76,
     "metadata": {},
     "output_type": "execute_result"
    }
   ],
   "source": [
    "madrid_mapa.head()"
   ]
  },
  {
   "cell_type": "code",
   "execution_count": null,
   "id": "781bbd72",
   "metadata": {},
   "outputs": [],
   "source": []
  }
 ],
 "metadata": {
  "kernelspec": {
   "display_name": "Python 3 (ipykernel)",
   "language": "python",
   "name": "python3"
  },
  "language_info": {
   "codemirror_mode": {
    "name": "ipython",
    "version": 3
   },
   "file_extension": ".py",
   "mimetype": "text/x-python",
   "name": "python",
   "nbconvert_exporter": "python",
   "pygments_lexer": "ipython3",
   "version": "3.9.13"
  }
 },
 "nbformat": 4,
 "nbformat_minor": 5
}
