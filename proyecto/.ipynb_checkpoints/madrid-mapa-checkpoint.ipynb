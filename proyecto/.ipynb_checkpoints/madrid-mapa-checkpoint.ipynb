{
 "cells": [
  {
   "cell_type": "code",
   "execution_count": 1,
   "id": "efe369b9",
   "metadata": {},
   "outputs": [],
   "source": [
    "import pandas as pd\n",
    "import numpy as np\n",
    "import pandas as pd\n",
    "import geopandas as gpd\n",
    "import matplotlib.pyplot as plt\n",
    "pd.set_option('display.max_columns', None)\n",
    "pd.set_option('display.max_rows', None)"
   ]
  },
  {
   "cell_type": "code",
   "execution_count": 115,
   "id": "c5e18c8e",
   "metadata": {},
   "outputs": [],
   "source": [
    "hotel = pd.read_csv('../hoteles/hoteles-mad-dummies.csv')\n",
    "restaurantes = pd.read_csv('../restaurantes/restaurantes-mad-dummies.csv')\n",
    "planes = pd.read_csv('../turismo/turismo-mad-dummies.csv')\n",
    "geo = gpd.read_file('../proyecto/limites-barrios-madrid.geojson')"
   ]
  },
  {
   "cell_type": "code",
   "execution_count": 116,
   "id": "535540da",
   "metadata": {},
   "outputs": [],
   "source": [
    "planes.insert(6, 'punto', 0)"
   ]
  },
  {
   "cell_type": "code",
   "execution_count": 118,
   "id": "8c4a8c2c",
   "metadata": {},
   "outputs": [],
   "source": [
    "planes['punto'] = gpd.GeoSeries.from_xy(planes.long, planes.lat)"
   ]
  },
  {
   "cell_type": "code",
   "execution_count": 61,
   "id": "331a67d2",
   "metadata": {},
   "outputs": [],
   "source": []
  },
  {
   "cell_type": "code",
   "execution_count": 105,
   "id": "c149abc1",
   "metadata": {},
   "outputs": [],
   "source": [
    "barrio = []\n",
    "            \n",
    "for p in planes.punto:\n",
    "    \n",
    "    encontrado = False\n",
    "    \n",
    "    for i, poly in enumerate(geo.geometry):\n",
    "        if poly.contains(p):\n",
    "            barrio.append(geo.name[i])\n",
    "            encontrado = True\n",
    "            break\n",
    "            \n",
    "    if not encontrado:\n",
    "        barrio.append(\"Barrio no encontrado\")\n"
   ]
  },
  {
   "cell_type": "code",
   "execution_count": 119,
   "id": "76f0ee29",
   "metadata": {},
   "outputs": [],
   "source": [
    "planes.insert(4, 'barrio', barrio)"
   ]
  },
  {
   "cell_type": "code",
   "execution_count": 121,
   "id": "81f4969a",
   "metadata": {},
   "outputs": [],
   "source": [
    "hotel.insert(7, 'punto', 0)"
   ]
  },
  {
   "cell_type": "code",
   "execution_count": 122,
   "id": "b6b4b058",
   "metadata": {},
   "outputs": [],
   "source": [
    "hotel['punto'] = gpd.GeoSeries.from_xy(hotel.long, hotel.lat)"
   ]
  },
  {
   "cell_type": "code",
   "execution_count": 123,
   "id": "862f4500",
   "metadata": {},
   "outputs": [],
   "source": [
    "barrio1 = []\n",
    "            \n",
    "for p in hotel.punto:\n",
    "    \n",
    "    encontrado = False\n",
    "    \n",
    "    for i, poly in enumerate(geo.geometry):\n",
    "        if poly.contains(p):\n",
    "            barrio1.append(geo.name[i])\n",
    "            encontrado = True\n",
    "            break\n",
    "            \n",
    "    if not encontrado:\n",
    "        barrio1.append(\"Barrio no encontrado\")"
   ]
  },
  {
   "cell_type": "code",
   "execution_count": 126,
   "id": "14072422",
   "metadata": {},
   "outputs": [],
   "source": [
    "hotel.insert(5, 'barrio', barrio1)"
   ]
  },
  {
   "cell_type": "code",
   "execution_count": 128,
   "id": "9bf19789",
   "metadata": {},
   "outputs": [],
   "source": [
    "restaurantes.insert(7, 'punto', 0)"
   ]
  },
  {
   "cell_type": "code",
   "execution_count": 129,
   "id": "ed11d7a8",
   "metadata": {},
   "outputs": [],
   "source": [
    "restaurantes['punto'] = gpd.GeoSeries.from_xy(restaurantes.long, restaurantes.lat)"
   ]
  },
  {
   "cell_type": "code",
   "execution_count": 130,
   "id": "dbf26fca",
   "metadata": {},
   "outputs": [],
   "source": [
    "barrio2 = []\n",
    "            \n",
    "for p in restaurantes.punto:\n",
    "    \n",
    "    encontrado = False\n",
    "    \n",
    "    for i, poly in enumerate(geo.geometry):\n",
    "        if poly.contains(p):\n",
    "            barrio2.append(geo.name[i])\n",
    "            encontrado = True\n",
    "            break\n",
    "            \n",
    "    if not encontrado:\n",
    "        barrio2.append(\"Barrio no encontrado\")"
   ]
  },
  {
   "cell_type": "code",
   "execution_count": 133,
   "id": "f5cb9e5e",
   "metadata": {},
   "outputs": [],
   "source": [
    "restaurantes.insert(3, 'barrio', barrio2)"
   ]
  },
  {
   "cell_type": "code",
   "execution_count": 134,
   "id": "6069b519",
   "metadata": {},
   "outputs": [],
   "source": [
    "planes = planes[['nombre','puntuacion','barrio','lat', 'long']]\n",
    "hotel = hotel[['nombre','puntuacion','barrio','lat', 'long']]\n",
    "restaurantes = restaurantes[['nombre','puntuacion','barrio','lat', 'long']]"
   ]
  },
  {
   "cell_type": "code",
   "execution_count": 144,
   "id": "b846375f",
   "metadata": {},
   "outputs": [],
   "source": [
    "restaurantes.insert(1,'tipo', 'Restaurante')\n",
    "hotel.insert(1, 'tipo', 'Hotel')\n",
    "planes.insert(1, 'tipo', 'Ocio')"
   ]
  },
  {
   "cell_type": "code",
   "execution_count": 154,
   "id": "5b98d551",
   "metadata": {},
   "outputs": [],
   "source": [
    "mapa_madrid = pd.concat([restaurantes, hotel, planes], axis = 0)"
   ]
  },
  {
   "cell_type": "code",
   "execution_count": 135,
   "id": "18c2fca7",
   "metadata": {},
   "outputs": [
    {
     "name": "stdout",
     "output_type": "stream",
     "text": [
      "<class 'pandas.core.frame.DataFrame'>\n",
      "RangeIndex: 1543 entries, 0 to 1542\n",
      "Data columns (total 5 columns):\n",
      " #   Column      Non-Null Count  Dtype  \n",
      "---  ------      --------------  -----  \n",
      " 0   nombre      1543 non-null   object \n",
      " 1   puntuacion  1543 non-null   object \n",
      " 2   barrio      1543 non-null   object \n",
      " 3   lat         1543 non-null   float64\n",
      " 4   long        1543 non-null   float64\n",
      "dtypes: float64(2), object(3)\n",
      "memory usage: 360.3 KB\n"
     ]
    }
   ],
   "source": [
    "planes.info(memory_usage='deep')"
   ]
  },
  {
   "cell_type": "code",
   "execution_count": 138,
   "id": "8f3d8238",
   "metadata": {},
   "outputs": [],
   "source": [
    "for c in planes.select_dtypes('float'):\n",
    "    \n",
    "    planes[c]=pd.to_numeric(planes[c], downcast='float')\n"
   ]
  },
  {
   "cell_type": "code",
   "execution_count": 139,
   "id": "27a282cf",
   "metadata": {},
   "outputs": [
    {
     "name": "stdout",
     "output_type": "stream",
     "text": [
      "<class 'pandas.core.frame.DataFrame'>\n",
      "RangeIndex: 716 entries, 0 to 715\n",
      "Data columns (total 5 columns):\n",
      " #   Column      Non-Null Count  Dtype  \n",
      "---  ------      --------------  -----  \n",
      " 0   nombre      716 non-null    object \n",
      " 1   puntuacion  716 non-null    object \n",
      " 2   barrio      716 non-null    object \n",
      " 3   lat         716 non-null    float64\n",
      " 4   long        716 non-null    float64\n",
      "dtypes: float64(2), object(3)\n",
      "memory usage: 162.6 KB\n"
     ]
    }
   ],
   "source": [
    "hotel.info(memory_usage='deep')"
   ]
  },
  {
   "cell_type": "code",
   "execution_count": 140,
   "id": "60131a95",
   "metadata": {},
   "outputs": [],
   "source": [
    "for c in hotel.select_dtypes('float'):\n",
    "    \n",
    "    hotel[c]=pd.to_numeric(hotel[c], downcast='float')\n"
   ]
  },
  {
   "cell_type": "code",
   "execution_count": 141,
   "id": "60bca7ff",
   "metadata": {},
   "outputs": [
    {
     "name": "stdout",
     "output_type": "stream",
     "text": [
      "<class 'pandas.core.frame.DataFrame'>\n",
      "RangeIndex: 6308 entries, 0 to 6307\n",
      "Data columns (total 5 columns):\n",
      " #   Column      Non-Null Count  Dtype  \n",
      "---  ------      --------------  -----  \n",
      " 0   nombre      6308 non-null   object \n",
      " 1   puntuacion  6308 non-null   object \n",
      " 2   barrio      6308 non-null   object \n",
      " 3   lat         6308 non-null   float64\n",
      " 4   long        6308 non-null   float64\n",
      "dtypes: float64(2), object(3)\n",
      "memory usage: 1.4 MB\n"
     ]
    }
   ],
   "source": [
    "restaurantes.info(memory_usage='deep')"
   ]
  },
  {
   "cell_type": "code",
   "execution_count": 142,
   "id": "987ef3be",
   "metadata": {},
   "outputs": [],
   "source": [
    "for c in restaurantes.select_dtypes('float'):\n",
    "    \n",
    "    restaurantes[c]=pd.to_numeric(restaurantes[c], downcast='float')\n",
    "    "
   ]
  },
  {
   "cell_type": "code",
   "execution_count": 156,
   "id": "1f1157e2",
   "metadata": {},
   "outputs": [],
   "source": [
    "planes.to_csv('planes_mapa.csv', index = False)\n",
    "hotel.to_csv('hotel_mapa.csv', index = False)\n",
    "restaurantes.to_csv('restaurantes_mapa.csv', index = False)\n",
    "mapa_madrid.to_csv('mapa_madrid.csv', index = False)"
   ]
  },
  {
   "cell_type": "code",
   "execution_count": null,
   "id": "e76de3f6",
   "metadata": {},
   "outputs": [],
   "source": []
  }
 ],
 "metadata": {
  "kernelspec": {
   "display_name": "Python 3 (ipykernel)",
   "language": "python",
   "name": "python3"
  },
  "language_info": {
   "codemirror_mode": {
    "name": "ipython",
    "version": 3
   },
   "file_extension": ".py",
   "mimetype": "text/x-python",
   "name": "python",
   "nbconvert_exporter": "python",
   "pygments_lexer": "ipython3",
   "version": "3.9.13"
  }
 },
 "nbformat": 4,
 "nbformat_minor": 5
}
