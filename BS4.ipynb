{
 "cells": [
  {
   "cell_type": "code",
   "execution_count": 3,
   "id": "2adf5c1c",
   "metadata": {},
   "outputs": [],
   "source": [
    "import requests as req\n",
    "\n",
    "from bs4 import BeautifulSoup as bs"
   ]
  },
  {
   "cell_type": "code",
   "execution_count": 4,
   "id": "b8736f6b",
   "metadata": {},
   "outputs": [],
   "source": [
    "url = 'https://www.tripadvisor.es/Restaurants-g187514-Madrid.html'"
   ]
  },
  {
   "cell_type": "code",
   "execution_count": null,
   "id": "46bce580",
   "metadata": {},
   "outputs": [],
   "source": [
    "html=req.get(url).text"
   ]
  },
  {
   "cell_type": "code",
   "execution_count": null,
   "id": "db9cb838",
   "metadata": {},
   "outputs": [],
   "source": [
    "soup=bs(html, 'html.parser')"
   ]
  },
  {
   "cell_type": "code",
   "execution_count": null,
   "id": "d7a62187",
   "metadata": {},
   "outputs": [],
   "source": [
    "pag1 = soup.find_all('a', 'class'='Lwqic Cj b')"
   ]
  }
 ],
 "metadata": {
  "kernelspec": {
   "display_name": "Python 3 (ipykernel)",
   "language": "python",
   "name": "python3"
  },
  "language_info": {
   "codemirror_mode": {
    "name": "ipython",
    "version": 3
   },
   "file_extension": ".py",
   "mimetype": "text/x-python",
   "name": "python",
   "nbconvert_exporter": "python",
   "pygments_lexer": "ipython3",
   "version": "3.9.13"
  }
 },
 "nbformat": 4,
 "nbformat_minor": 5
}
