{
 "cells": [
  {
   "cell_type": "code",
   "execution_count": 1,
   "id": "d28e29ed",
   "metadata": {},
   "outputs": [],
   "source": [
    "import requests as req\n",
    "import pandas as pd\n",
    "pd.set_option('display.max_columns', None)\n",
    "pd.set_option('display.max_rows', None)\n",
    "import feedparser\n",
    "from selenium import webdriver\n",
    "from selenium.webdriver.common.keys import Keys\n",
    "from webdriver_manager.chrome import ChromeDriverManager\n",
    "from selenium.webdriver.common.by import By\n",
    "from googletrans import Translator\n",
    "import time\n",
    "import tqdm\n",
    "import warnings\n",
    "warnings.filterwarnings('ignore')\n",
    "\n",
    "PATH = ChromeDriverManager().install()"
   ]
  },
  {
   "cell_type": "code",
   "execution_count": 2,
   "id": "1ca11d30",
   "metadata": {},
   "outputs": [],
   "source": [
    "driver = webdriver.Chrome(PATH)"
   ]
  },
  {
   "cell_type": "code",
   "execution_count": 3,
   "id": "c3deaaff",
   "metadata": {},
   "outputs": [],
   "source": [
    "driver.get('https://www.tripadvisor.es/Restaurants-g187514-Madrid.html')"
   ]
  },
  {
   "cell_type": "code",
   "execution_count": 4,
   "id": "aa10567f",
   "metadata": {},
   "outputs": [],
   "source": [
    "time.sleep(5)\n",
    "driver.find_element(By.XPATH, '//*[@id=\"onetrust-accept-btn-handler\"]').click()"
   ]
  },
  {
   "cell_type": "code",
   "execution_count": 5,
   "id": "7a073f68",
   "metadata": {},
   "outputs": [],
   "source": [
    "#esto me permite abrir el elemento en una pestaña nueva\n",
    "#driver.find_element(By.XPATH, '//*[@id=\"component_2\"]/div/div[1]/div/div/div[1]/div[2]/div[1]/div[2]/span/a').send_keys(Keys.CONTROL + Keys.RETURN) "
   ]
  },
  {
   "cell_type": "code",
   "execution_count": 6,
   "id": "6b01242f",
   "metadata": {},
   "outputs": [],
   "source": [
    " # esto me permite pasar de la pestaña actual a la segunda que tengo abierta - el [1] indica índice\n",
    "#driver.switch_to.window(driver.window_handles[1])"
   ]
  },
  {
   "cell_type": "markdown",
   "id": "c9e45fad",
   "metadata": {},
   "source": [
    "nombre = []\n",
    "puntuacion = []\n",
    "\n",
    "descripcion = []\n",
    "precio = []\n",
    "tipo_cocina = []\n",
    "comidas = []\n",
    "\n",
    "ubicacion = []\n",
    "\n",
    "\n",
    "\n",
    "contador = 0\n",
    "\n",
    "#while 1:\n",
    "    \n",
    "driver.find_element(By.XPATH, '//*[@id=\"component_2\"]/div/div[1]/div/div/div[1]/div[2]/div[1]/div[2]/span/a')\\\n",
    ".send_keys(Keys.CONTROL + Keys.RETURN)\n",
    "driver.switch_to.window(driver.window_handles[1])\n",
    "    \n",
    "nombre.append(driver.find_element(By.CLASS_NAME, 'HjBfq').text)\n",
    "\n",
    "puntuacion.append(driver.find_element(By.CLASS_NAME, 'ZDEqb').text)\n",
    "\n",
    "driver.execute_script(\"window.scrollTo(0, 200);\")\n",
    "\n",
    "driver.find_element(By.XPATH, '//*[@id=\"component_56\"]/div[1]/div/div[2]/div/div[2]/div[3]/a').click()\n",
    "\n",
    "try:\n",
    "    descripcion.append(driver.find_element(By.CLASS_NAME, 'jmnaM').text)\n",
    "except:\n",
    "    descripcion.append('información no disponible')\n",
    "\n",
    "try:\n",
    "    precio.append(driver.find_element(By.CLASS_NAME, 'SrqKb').text)\n",
    "except:\n",
    "    precio.append('n/a')\n",
    "    \n",
    "try:\n",
    "    tipo_cocina.append(driver.find_element(By.CLASS_NAME, 'SrqKb').text)\n",
    "except:\n",
    "    tipo_cocina.append('n/a')\n",
    "\n",
    "try:\n",
    "    comidas.append(driver.find_element(By.CLASS_NAME, 'SrqKb').text)\n",
    "except:\n",
    "    comidas.append('n/a')\n",
    "    \n",
    "driver.find_element(By.XPATH, '//*[@id=\"BODY_BLOCK_JQUERY_REFLOW\"]/div[13]/div/div[3]').click()\n",
    "\n",
    "ubicacion.append(driver.find_element(By.CLASS_NAME, 'yEWoV').text)    "
   ]
  },
  {
   "cell_type": "code",
   "execution_count": null,
   "id": "036f6773",
   "metadata": {},
   "outputs": [],
   "source": [
    "driver.quit()"
   ]
  },
  {
   "cell_type": "code",
   "execution_count": null,
   "id": "1e36942d",
   "metadata": {},
   "outputs": [],
   "source": [
    "nombre"
   ]
  },
  {
   "cell_type": "code",
   "execution_count": null,
   "id": "2af4b911",
   "metadata": {
    "scrolled": true
   },
   "outputs": [],
   "source": [
    "nombre = []\n",
    "puntuacion = []\n",
    "\n",
    "#descripcion = []\n",
    "#precio = []\n",
    "tipo_cocina = []\n",
    "ubicacion = []\n",
    "\n",
    "\n",
    "\n",
    "#contador = 0\n",
    "\n",
    "\n",
    "#while 1:\n",
    "\n",
    "driver.find_element(By.XPATH, '//*[@id=\"component_2\"]/div/div[1]/div/div/div[1]/div[2]/div[1]/div[2]/span/a')\\\n",
    ".send_keys(Keys.CONTROL + Keys.RETURN)\n",
    "driver.switch_to.window(driver.window_handles[1])\n",
    "    \n",
    "nombre.append(driver.find_element(By.CLASS_NAME, 'HjBfq').text)\n",
    "\n",
    "puntuacion.append(driver.find_element(By.CLASS_NAME, 'ZDEqb').text)\n",
    "\n",
    "tipo_cocina.append([e.text for e in driver.find_elements(By.CLASS_NAME, 'dlMOJ')])\n",
    "\n",
    "ubicacion.append(driver.find_element(By.CLASS_NAME, 'AYHFM')[1].text)\n",
    "\n",
    "\n"
   ]
  },
  {
   "cell_type": "code",
   "execution_count": null,
   "id": "e69bd8e5",
   "metadata": {},
   "outputs": [],
   "source": [
    "nombre, puntuacion, tipo_cocina, ubicacion"
   ]
  },
  {
   "cell_type": "code",
   "execution_count": null,
   "id": "98a2d688",
   "metadata": {},
   "outputs": [],
   "source": [
    "holi.text"
   ]
  },
  {
   "cell_type": "code",
   "execution_count": null,
   "id": "c3624015",
   "metadata": {},
   "outputs": [],
   "source": [
    "for e in holi:\n",
    "    print(e.text)"
   ]
  },
  {
   "cell_type": "code",
   "execution_count": null,
   "id": "79cca23b",
   "metadata": {},
   "outputs": [],
   "source": []
  }
 ],
 "metadata": {
  "kernelspec": {
   "display_name": "Python 3 (ipykernel)",
   "language": "python",
   "name": "python3"
  },
  "language_info": {
   "codemirror_mode": {
    "name": "ipython",
    "version": 3
   },
   "file_extension": ".py",
   "mimetype": "text/x-python",
   "name": "python",
   "nbconvert_exporter": "python",
   "pygments_lexer": "ipython3",
   "version": "3.9.13"
  }
 },
 "nbformat": 4,
 "nbformat_minor": 5
}
