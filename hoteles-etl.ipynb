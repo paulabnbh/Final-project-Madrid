{
 "cells": [
  {
   "cell_type": "code",
   "execution_count": 3,
   "id": "f097c28f",
   "metadata": {},
   "outputs": [],
   "source": [
    "import requests as req\n",
    "import pandas as pd\n",
    "pd.set_option('display.max_columns', None)\n",
    "pd.set_option('display.max_rows', None)\n",
    "import feedparser\n",
    "from selenium import webdriver\n",
    "from selenium.webdriver.common.keys import Keys\n",
    "from webdriver_manager.chrome import ChromeDriverManager\n",
    "from selenium.webdriver.support.ui import WebDriverWait\n",
    "from selenium.webdriver.support import expected_conditions as EC\n",
    "from selenium.webdriver.common.by import By\n",
    "from pymongo import MongoClient\n",
    "import time\n",
    "import tqdm\n",
    "import warnings\n",
    "warnings.filterwarnings('ignore')\n",
    "\n",
    "PATH = ChromeDriverManager().install()"
   ]
  },
  {
   "cell_type": "code",
   "execution_count": 4,
   "id": "65610cf2",
   "metadata": {},
   "outputs": [],
   "source": [
    "client = MongoClient('mongodb://localhost:27017')\n",
    "db = client['hoteles']\n",
    "collection = db['hoteles-mad']"
   ]
  },
  {
   "cell_type": "code",
   "execution_count": 10,
   "id": "1330f7f4",
   "metadata": {},
   "outputs": [],
   "source": [
    "driver = webdriver.Chrome(PATH)"
   ]
  },
  {
   "cell_type": "code",
   "execution_count": 11,
   "id": "d3c79c8f",
   "metadata": {},
   "outputs": [],
   "source": [
    "driver.get('https://www.tripadvisor.es/Hotels-g187514-oa870-Madrid-Hotels.html')"
   ]
  },
  {
   "cell_type": "code",
   "execution_count": 12,
   "id": "4135e1b1",
   "metadata": {},
   "outputs": [],
   "source": [
    "#aceptar cookies\n",
    "wait = WebDriverWait(driver, 15)\n",
    "wait.until(EC.element_to_be_clickable((By.XPATH, '//*[@id=\"onetrust-accept-btn-handler\"]'))).click()"
   ]
  },
  {
   "cell_type": "code",
   "execution_count": null,
   "id": "013e7fc7",
   "metadata": {},
   "outputs": [],
   "source": [
    "time.sleep(2)\n",
    "driver.find_element(By.XPATH, '//*[@id=\"component_3\"]/div/button/span').click()\n",
    "driver.execute_script('window.scrollTo(0, 900);')"
   ]
  },
  {
   "cell_type": "code",
   "execution_count": 21,
   "id": "f8d323b5",
   "metadata": {},
   "outputs": [
    {
     "name": "stdout",
     "output_type": "stream",
     "text": [
      "Canopy by Hilton Madrid Castellana \n",
      "Canopy by Hilton Madrid Castellana \n",
      "Sensapartments Jardines de Debod \n",
      "1\n",
      "Residencia Universitaria Moncloa \n",
      "2\n",
      "Charming Narvaez \n",
      "3\n",
      "Apartamentos Funway \n",
      "4\n",
      "Apartamentos Eloisa \n",
      "5\n"
     ]
    }
   ],
   "source": [
    "contador = 0\n",
    "while 1:\n",
    "    \n",
    "    ls = driver.find_elements(By.CLASS_NAME, 'property_title.prominent')\n",
    "    \n",
    "    for e in ls:\n",
    "        \n",
    "        time.sleep(2)\n",
    "        \n",
    "        try:\n",
    "            try:\n",
    "                e.click()\n",
    "\n",
    "            except:\n",
    "                driver.execute_script('window.scrollBy(0, 250);')\n",
    "                e.click()\n",
    "        except:\n",
    "            driver.execute_script('window.scrollBy(0, 150);')\n",
    "            e.click()\n",
    "            \n",
    "        time.sleep(1)\n",
    "        driver.switch_to.window(driver.window_handles[1])\n",
    "        driver.execute_script(\"return document.readyState == 'complete';\")\n",
    "\n",
    "        try:\n",
    "            name = driver.find_element(By.CLASS_NAME, 'QdLfr.b.d.Pn').text\n",
    "        except:\n",
    "            driver.refresh()\n",
    "            name = driver.find_element(By.CLASS_NAME, 'QdLfr.b.d.Pn').text\n",
    "\n",
    "        try:\n",
    "            ubicacion = driver.find_element(By.CLASS_NAME, 'fHvkI.PTrfg').text\n",
    "        except:\n",
    "            ubicacion = driver.find_element(By.XPATH, '//*[@id=\"component_3\"]/div/div/div[2]/div/div[2]/div/div/div/span[2]/span').text\n",
    "        \n",
    "        try:\n",
    "            link = driver.find_element(By.CLASS_NAME, 'YnKZo.Ci.Wc._S.C.pInXB._S.ITocq.jNmfd').get_attribute('href')\n",
    "        except:\n",
    "            link = 'No hay link'\n",
    "            \n",
    "        try:\n",
    "            try:\n",
    "                try:\n",
    "                    precio = driver.find_element(By.CLASS_NAME, 'JPNOn.b.Wi').text\n",
    "                except:\n",
    "                    precio = driver.find_element(By.CLASS_NAME, 'WXMFC.b').text\n",
    "\n",
    "            except:\n",
    "                precio = driver.find_element(By.CLASS_NAME, 'WXMFC.b.autoResize').text\n",
    "        except:\n",
    "            precio = 'No disponible'\n",
    "        \n",
    "        \n",
    "        driver.execute_script('window.scrollTo(0, 700);')\n",
    "        try:\n",
    "            puntuacion = driver.find_element(By.CLASS_NAME, 'uwJeR.P').text \n",
    "        except:\n",
    "            puntuacion = 'Este alojamiento todavía no tiene valoraciones, ¡se el primero!'\n",
    "        \n",
    "        driver.execute_script('window.scrollTo(0, 1000);')\n",
    "        time.sleep(0.5)\n",
    "        try:\n",
    "            descripcion = driver.find_element(By.CLASS_NAME, 'fIrGe._T').text\n",
    "        except:\n",
    "            descripcion = 'No disponible'\n",
    "        \n",
    "        time.sleep(1)\n",
    "        \n",
    "        serv_hab = []\n",
    "        tipo_hab = []\n",
    "        dos = driver.find_elements(By.CLASS_NAME, 'yplav.f.ME.H3._c')\n",
    "        \n",
    "        for e in dos:\n",
    "            if 'Suites' in e.text or 'Habitaciones' in e.text or 'Vistas' in e.text:\n",
    "                tipo_hab.append(e.text)\n",
    "            elif e.text == '':\n",
    "                pass\n",
    "            else:\n",
    "                serv_hab.append(e.text)\n",
    "        \n",
    "        driver.close()\n",
    "        driver.switch_to.window(driver.window_handles[0])\n",
    "\n",
    "        hoteles = {'_id':name, 'nombre': name, 'ubicacion':ubicacion, 'link':link, 'precio':precio,\n",
    "                   'puntuacion':puntuacion,'descripcion':descripcion, 'serv_hab': serv_hab, 'tipo_hab': tipo_hab}\n",
    "        \n",
    "        print(name, ubicacion)\n",
    "        \n",
    "        try:\n",
    "            collection.insert_one(hoteles)\n",
    "            serv_hab.clear()\n",
    "            tipo_hab.clear()\n",
    "            contador += 1\n",
    "            print(contador)\n",
    "\n",
    "        except:\n",
    "            continue\n",
    "    \n",
    "    try:\n",
    "        driver.find_element(By.CLASS_NAME, 'nav.next.ui_button.primary').click()\n",
    "        time.sleep(7)\n",
    "    except:\n",
    "        break"
   ]
  },
  {
   "cell_type": "code",
   "execution_count": null,
   "id": "7f28c5ae",
   "metadata": {},
   "outputs": [],
   "source": []
  }
 ],
 "metadata": {
  "kernelspec": {
   "display_name": "Python 3 (ipykernel)",
   "language": "python",
   "name": "python3"
  },
  "language_info": {
   "codemirror_mode": {
    "name": "ipython",
    "version": 3
   },
   "file_extension": ".py",
   "mimetype": "text/x-python",
   "name": "python",
   "nbconvert_exporter": "python",
   "pygments_lexer": "ipython3",
   "version": "3.9.13"
  }
 },
 "nbformat": 4,
 "nbformat_minor": 5
}
