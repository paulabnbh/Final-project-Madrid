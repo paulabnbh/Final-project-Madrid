{
 "cells": [
  {
   "cell_type": "code",
   "execution_count": 107,
   "id": "0d4c05d8",
   "metadata": {},
   "outputs": [],
   "source": [
    "import pandas as pd\n",
    "pd.set_option('display.max_columns', None)\n",
    "pd.set_option('display.max_rows', None)\n",
    "import numpy as np\n",
    "import warnings\n",
    "warnings.filterwarnings('ignore')\n",
    "from geopy.geocoders import Nominatim\n",
    "from tqdm import tqdm\n",
    "import re\n",
    "import openai\n",
    "import time\n",
    "openai.api_key = \"insert-openai-API\""
   ]
  },
  {
   "cell_type": "code",
   "execution_count": 2,
   "id": "7c169a63",
   "metadata": {},
   "outputs": [],
   "source": [
    "hoteles = pd.read_csv('hoteles-mad.csv')"
   ]
  },
  {
   "cell_type": "code",
   "execution_count": 3,
   "id": "8ca7504a",
   "metadata": {},
   "outputs": [
    {
     "data": {
      "text/plain": [
       "_id              0\n",
       "descripcion      0\n",
       "link           148\n",
       "nombre           0\n",
       "precio           0\n",
       "puntuacion       0\n",
       "serv_hab         0\n",
       "tipo_hab         0\n",
       "ubicacion      788\n",
       "dtype: int64"
      ]
     },
     "execution_count": 3,
     "metadata": {},
     "output_type": "execute_result"
    }
   ],
   "source": [
    "hoteles.isna().sum()"
   ]
  },
  {
   "cell_type": "code",
   "execution_count": 4,
   "id": "488bfb43",
   "metadata": {},
   "outputs": [],
   "source": [
    "hoteles.drop(columns = ['_id'], inplace = True)"
   ]
  },
  {
   "cell_type": "code",
   "execution_count": 5,
   "id": "b29fc3ba",
   "metadata": {},
   "outputs": [],
   "source": [
    "check = hoteles[['descripcion', 'link','precio','puntuacion','serv_hab','tipo_hab','ubicacion']]"
   ]
  },
  {
   "cell_type": "code",
   "execution_count": 6,
   "id": "8d6b08f2",
   "metadata": {},
   "outputs": [],
   "source": [
    "dups = check.duplicated()"
   ]
  },
  {
   "cell_type": "code",
   "execution_count": 7,
   "id": "4dc5fefd",
   "metadata": {},
   "outputs": [],
   "source": [
    "dup_index=check.index[dups]"
   ]
  },
  {
   "cell_type": "code",
   "execution_count": 8,
   "id": "867ab734",
   "metadata": {},
   "outputs": [],
   "source": [
    "hoteles = hoteles.drop(index=dup_index)"
   ]
  },
  {
   "cell_type": "code",
   "execution_count": 9,
   "id": "3137f12d",
   "metadata": {},
   "outputs": [],
   "source": [
    "hoteles = hoteles.loc[~hoteles.ubicacion.isna()]"
   ]
  },
  {
   "cell_type": "code",
   "execution_count": 33,
   "id": "3eefac18",
   "metadata": {},
   "outputs": [
    {
     "data": {
      "text/plain": [
       "['Cruz 26, 3 Derecha, 28012 Madrid España',\n",
       " 'Calle Carretas 3 2nd, 4th Floors, 28012 Madrid España',\n",
       " 'Conde de Romanones 9, 2 Piso, 28012 Madrid España',\n",
       " 'Calle Espejo 2 Piso 2, 28013 Madrid España',\n",
       " 'Calle Atocha 43, 28012 Madrid España',\n",
       " 'Calle Cava de San Miguel 8, 28005 Madrid España',\n",
       " 'Calle Salud 13, 28013 Madrid España',\n",
       " 'Calle Esparteros 12, 28012 Madrid España',\n",
       " 'Calle Zorrilla 9, 28014 Madrid España',\n",
       " 'Avenida Logrono 333 Barajas, 28042 Madrid España',\n",
       " 'Calle de Don Ramón de la Cruz 70, 28006 Madrid España',\n",
       " 'Calle Victoria 1, 28012 Madrid España',\n",
       " 'Calle Ventura de La Vega 5, 28014 Madrid España',\n",
       " 'Calle Juan de Olias 15 metro ESTRECHO, linea 1, 28020 Madrid España',\n",
       " 'Calle Chinchilla 1, 28013 Madrid España',\n",
       " 'Calle Vascos 27, 28040 Madrid España',\n",
       " 'Calle Factor 5, 28013 Madrid España',\n",
       " 'Gran Via 15 - planta 6, 28013 Madrid España',\n",
       " 'Calle Batalla de Torrijos, 26, 28025 Madrid España',\n",
       " 'Calle Fuencarral 95, 28004 Madrid España',\n",
       " 'Calle del Leon 13 Planta 3 Puerta 1, 28014 Madrid España',\n",
       " 'Calle Espoz y Mina 7 3rd Derecha, 28012 Madrid España',\n",
       " 'Avenida Logrono 102 Barajas District, 28042 Madrid España',\n",
       " 'Calle Fuentes 12, 28013 Madrid España',\n",
       " 'Calle Infantas 30 - 1 Izq, 28004 Madrid España',\n",
       " 'Paseo de la Castellana 22, 28046 Madrid España',\n",
       " 'Calle Caballero de Gracia 14, 28013 Madrid España',\n",
       " 'Paseo de la Castellana, 57 Chamberi, 28046 Madrid España',\n",
       " 'Calle Arturo Soria 14, 28027 Madrid España',\n",
       " 'Calle Mayor 5 Madrid Center, 28012 Madrid España',\n",
       " 'Calle Marques de Urquijo 23 Moncloa-Aravaca, 28008 Madrid España',\n",
       " 'Plaza De Las Cortes 4 7 Dcha, 28014 Madrid España',\n",
       " 'Paseo de Santa Maria de La Cabeza 21, 28045 Madrid España',\n",
       " 'Calle Fuencarral 27, 28004 Madrid España',\n",
       " 'Via De Los Poblados, 28033 Madrid España',\n",
       " 'Costanilla de Santiago nº2, 2ºcentro, 28013 Madrid España',\n",
       " 'Plaza Cieza 2, 28034 Madrid España',\n",
       " 'Calle Atocha 51, 28012 Madrid España',\n",
       " 'Plaza San Miguel 5, 28005 Madrid España',\n",
       " 'Calle Leon 13, 2º Piso Barrio de Las Letras, Madrid centro, 28014 Madrid España',\n",
       " 'Paseo Delicias 56, 28045 Madrid España',\n",
       " 'Calle Bravo Murillo 364, 28020 Madrid España',\n",
       " 'Alcala, 177, Salamanca District Salamanca District, 28009 Madrid España',\n",
       " 'Calle Alsasua 5, 28023 Madrid España',\n",
       " 'Calle de Francisco Navacerrada 25, 28028 Madrid España',\n",
       " 'Calle de Serrano 236, 28016 Madrid España',\n",
       " 'Calle de la Cruz, 26, 2Drcha, 28012 Madrid España',\n",
       " 'Calle Mar de Omán, 25, 28033 Madrid España',\n",
       " 'Juan de Austria, 5-7, 28010 Madrid España',\n",
       " 'Calle Fuencarral 18 2º Drcha, 28004 Madrid España',\n",
       " 'Calle de Luis Vélez de Guevara 2, 28012 Madrid España',\n",
       " 'Calle Fuencarral 23 4 Derecha, 28004 Madrid España',\n",
       " 'Calle Lope de Vega 11 Piso 2, 28014 Madrid España',\n",
       " 'Camino De La Zarzuela, 28023 Madrid España',\n",
       " 'Calle Victoria 6 Puerta del Sol, 28012 Madrid España',\n",
       " 'Calle Leganitos 15, 28013 Madrid España',\n",
       " 'Calle Fuencarral 45, 28004 Madrid España',\n",
       " 'Calle Allendesalazar 4, 28043 Madrid España',\n",
       " 'Calle Infantas 5 Chueca, 28004 Madrid España',\n",
       " 'Calle Chinchilla 4, 28013 Madrid España',\n",
       " 'Calle Fuencarral 39, 28004 Madrid España',\n",
       " 'Avenida Pio XII 25, 28016 Madrid España',\n",
       " 'Calle del Marques de Toca 10, 28012 Madrid España',\n",
       " 'Calle Manuel Fernandez y Gonzalez 10, 28014 Madrid España',\n",
       " 'Calle Leganitos, 41, 28013 Madrid España',\n",
       " 'Calle Toledo 94-2D, 28005 Madrid España',\n",
       " 'Calle Marte 2, 28042 Madrid España',\n",
       " 'Calle de La Puebla 14 Escalera 1 Planta 1 Puerta 1, 28004 Madrid España',\n",
       " 'Calle Barco 10, 28004 Madrid España',\n",
       " 'Calle de Santa Engracia 41, 28010 Madrid España',\n",
       " 'Calle Flor Baja 5 4to Izq., 28013 Madrid España',\n",
       " 'Carrera San Jeronimo 32 2ª planta, 28014 Madrid España',\n",
       " 'Calle Augusto Figueroa 47, 28004 Madrid España',\n",
       " 'Calle de Valverde nº 6, 28004 Madrid España',\n",
       " 'Calle de San Bernardo 13 8ª Planta, 28015 Madrid España',\n",
       " 'Fuencarral, 10, 3rd floor, 28004 Madrid España',\n",
       " 'Calle de la Cruz 26, 1 Izquierda, 28012 Madrid España',\n",
       " 'Principe,18 1o izq, 28012 Madrid España',\n",
       " 'Calle Arenal 16, 28013 Madrid España',\n",
       " 'Calle Ardemans 13 Esq Eraso 7, 28028 Madrid España',\n",
       " 'Calle Preciados 33 Planta 3, 28013 Madrid España',\n",
       " 'Gran Via, 63 5th floor, 28013 Madrid España',\n",
       " 'Calle Puebla 6, 1º Dcha, 28004 Madrid España',\n",
       " 'Calle de San Romualdo, 17, 28037 Madrid España',\n",
       " 'Calle Principe 17, 28012 Madrid España',\n",
       " 'Plaza de la Lealtad 5, 28014 Madrid España',\n",
       " 'Calle Recoletos 18, 28001 Madrid España',\n",
       " 'Calle Chinchilla 4 btwn Gran Via and Plaza del Carmen, 28013 Madrid España',\n",
       " 'Calle de Julian Camarillo 9, 28037 Madrid España',\n",
       " 'Calle Fuencarral 17 3.º izquierda, 28004 Madrid España',\n",
       " 'Calle San Bernardo 35, 28015 Madrid España',\n",
       " 'Calle Principe 18 Floor 3, 28012 Madrid España',\n",
       " 'Calle San Bernardo 55, 28015 Madrid España',\n",
       " 'Calle GRAN VIA, 64 Piso 8, 28013 Madrid España',\n",
       " 'Calle Atocha Nº75 2ºPiso, 28012 Madrid España',\n",
       " 'Calle Mesonero Romanos 10 Escalera 1 4 Piso Puerta 1, 28013 Madrid España',\n",
       " 'Calle de los Madrazo, 20, 28014 Madrid España',\n",
       " 'C/ Fuencarral, 39 piso 4º izquierda, 28004 Madrid España',\n",
       " '15 Gran Vía, 4B, 28013 Madrid España',\n",
       " 'Calle Carretas 7 - 2nd fl, 28012 Madrid España',\n",
       " 'Calle Huertas 14 2º ext. izda, 28012 Madrid España',\n",
       " 'C/ de las Fuentes, 10 Centro ciudad: Plaza de la Opera, 28013 Madrid España',\n",
       " 'Calle Azucenas 5, 28039 Madrid España',\n",
       " 'San Bernardo 87, 28015 Madrid España',\n",
       " 'Gran Via 50 2nd floor, 28013 Madrid España',\n",
       " 'Calle Pez 32, 28004 Madrid España',\n",
       " 'Calle Atocha 117, 28012 Madrid España',\n",
       " 'Calle Barcelona 4-6, 28012 Madrid España',\n",
       " 'C. de las Minas, 12, 28004 Madrid España',\n",
       " 'Calle del Leon 32, 28014 Madrid España',\n",
       " 'Calle de San Marcos 8, 28004 Madrid España',\n",
       " 'Calle San Pedro Mártir, 9, 28012 Madrid España',\n",
       " 'Calle Sanchez Bustillo 3, 28012 Madrid España',\n",
       " 'Calle Concepcion Arenal 4, 28004 Madrid España',\n",
       " 'Calle de San Bernardo 78, 28015 Madrid España',\n",
       " 'Calle Espada 6 Escalera 1 Planta -1 Puerta B, 28012 Madrid España',\n",
       " 'Calle Gran Via 15, 28013 Madrid España',\n",
       " 'Calle Pez 40, 28004 Madrid España',\n",
       " 'Calle San Bernardo 35 Planta 0 1 Izq., 28015 Madrid España',\n",
       " 'Carrera de San Jeronimo 30 3ª planta, 28014 Madrid España',\n",
       " 'Calle Espoz y Mina 2 y Planta 4 Puerta 1 Puerta del Sol, 28012 Madrid España',\n",
       " 'Calle Cruz 33, 28012 Madrid España',\n",
       " 'Calle de San Bernardo 41, 28015 Madrid España',\n",
       " 'Calle Espoz y Mina 5, 28012 Madrid España',\n",
       " 'Calle Hilarion Eslava 16, 28015 Madrid España',\n",
       " 'Calle Nunez de Arce 15, 28012 Madrid España',\n",
       " 'Calle del Marqués de Encinares 5, 28029 Madrid España',\n",
       " 'Calle Pozo 4 Puerta del Sol, 28012 Madrid España',\n",
       " 'Calle de Salvador 4, 28012 Madrid España',\n",
       " 'Calle Jerez de los Caballeros 2 Barajas, 28042 Madrid España',\n",
       " 'Valverde 32, 1st fl, left, 28004 Madrid España',\n",
       " 'Atocha 43, 2, 28012 Madrid España',\n",
       " 'Plaza de Celenque, 1, 28013 Madrid España',\n",
       " 'Carrera de San Jerónimo, 5 Piso 2º, 28014 Madrid España',\n",
       " 'Calle Cervantes 19, 28014 Madrid España',\n",
       " 'Calle de Alonso Cano 60, 28003 Madrid España',\n",
       " 'Gran Via 15, 4-A, 28013 Madrid España',\n",
       " 'Calle Santa Brigida 1, 28004 Madrid España',\n",
       " 'Calle de Cedaceros 6, 28014 Madrid España',\n",
       " 'Calle Prado 16, 28014 Madrid España',\n",
       " 'Carretera Dehesa de La Villa 2, 28040 Madrid España',\n",
       " 'Av. de Logroño 130, 28042 Madrid España',\n",
       " 'Calle Perez Galdos 7, 28004 Madrid España',\n",
       " 'Calle San Bartolome 2, 28004 Madrid España',\n",
       " 'Plaza Mayor 30, 28012 Madrid España',\n",
       " '70, Narvaez Street, 28009 Madrid España',\n",
       " 'Calle Espoz y Mina 7, 28012 Madrid España',\n",
       " 'C/ Echegaray No 5. 1st-Dcha., 28014 Madrid España',\n",
       " 'Calle Gran Via 44, 28013 Madrid España',\n",
       " 'C/ Echegaray, 5, 2o derecha, 28014 Madrid España',\n",
       " 'Calle Arenal, 26, 5º D, 28013 Madrid España',\n",
       " 'Calle Palma 61 1 drcha - 2, 28015 Madrid España',\n",
       " 'Calle de los Jardines 2, 28013 Madrid España',\n",
       " '7 Calle de Carretas, 28012 Madrid España',\n",
       " 'Calle Ventura de La Vega 16, 28014 Madrid España',\n",
       " 'Barbieri 3, 1 Izq, 28004 Madrid España',\n",
       " 'Calle Atocha 104, 28012 Madrid España',\n",
       " 'Carrera San Jeronimo 3, 28014 Madrid España',\n",
       " 'Calle del Tres Cruces 4, 28013 Madrid España',\n",
       " 'Calle Fuencarral 25, 28004 Madrid España',\n",
       " 'Caballero de Gracia 6, 2do. Caballero de Gracia 6, 2do., 28013 Madrid España',\n",
       " 'Calle San Bartolome 4, 28004 Madrid España',\n",
       " 'Corredera Baja de San Pablo 33, 28004 Madrid España',\n",
       " 'Calle Fuencarral, 20 1º, 28004 Madrid España',\n",
       " 'Calle Infantas 38, 28004 Madrid España',\n",
       " 'Calle Miosotis 13, 28039 Madrid España',\n",
       " 'Calle Hortaleza 4 40D, 28004 Madrid España',\n",
       " 'Calle Santa Ana 25, 28005 Madrid España',\n",
       " 'Calle Gravina 25, 28004 Madrid España',\n",
       " 'Fuencarral, 41. 4to D, 28005 Madrid España',\n",
       " 'Calle San Agustin 6, 28014 Madrid España',\n",
       " 'Calle Montera 21 3 Planta Puerta IZ, 28013 Madrid España',\n",
       " 'Calle de Barbieri, 1, 28004 Madrid España',\n",
       " 'Avenida Albufera 18, 28038 Madrid España',\n",
       " 'Calle de la Libertad 4, 28004 Madrid España',\n",
       " 'Calle Conde de Las Posadas 13, 28042 Madrid España',\n",
       " 'Calle de los Jardines 11 3od Planta 3od Puerta DR, 28013 Madrid España',\n",
       " 'Humanitarias, 21 esquina Calle Pinzón nº 42, 28025 Madrid España',\n",
       " 'Calle Mayor, 28013 Madrid España',\n",
       " 'Conde Romanones, 8 ext, 20D, 28012 Madrid España',\n",
       " 'Calle de Prim, 15, 2a planta, 28004 Madrid España',\n",
       " 'Calle Tetuán 36, 28013 Madrid España',\n",
       " 'Principe,18 1 Derecha, 28012 Madrid España',\n",
       " 'Calle de Fuencarral, 41, 2, 28004 Madrid España',\n",
       " 'Calle Escalinata 4, 28013 Madrid España',\n",
       " 'Calle Leon, Numero 10. Piso 1 Barrio de Las Letras, Madrid España',\n",
       " 'Calle Alcala 57, 28014 Madrid España',\n",
       " 'Calle Salvia 4, 28039 Madrid España',\n",
       " 'Gran Vía, 15 4b, 28013 Madrid España',\n",
       " 'Jardines 11 1 Derecha, 28013 Madrid España',\n",
       " 'Calle Victor Hugo 4, 28004 Madrid España',\n",
       " 'Calle Ave María 26, 28012 Madrid España',\n",
       " 'Calle Navarra 16, 28039 Madrid España',\n",
       " 'Calle Conde de las Posadas, 13 La Piovera, 28042 Madrid España',\n",
       " '77 Calle Doctor Esquerdo, 28007 Madrid España',\n",
       " 'Pl. De Tirso De Molina, 8, 28012 Madrid España',\n",
       " 'Calle Moratin 11 Planta 0 1 Izq., 28014 Madrid España',\n",
       " 'Calle San Pedro 13, 28014 Madrid España',\n",
       " 'Calle Sierra de La Estrella 5 3rd Fl, 28053 Madrid España',\n",
       " 'Calle Fuencarral 2, 28004 Madrid España',\n",
       " 'Calle de Magdalena No. 3, 28012 Madrid España',\n",
       " 'Calle Piamonte 9, 28004 Madrid España',\n",
       " 'Plaza de San Ana 2 Centro, 28012 Madrid España',\n",
       " 'Paseo de la Castellana 62, 28046 Madrid España',\n",
       " 'Calle Madera 1, 28004 Madrid España',\n",
       " 'Calle Bravo Murillo 127 2, 28020 Madrid España',\n",
       " 'Calle Zambrana 4, 28027 Madrid España',\n",
       " 'Calle Mezquite 5B, 28045 Madrid España',\n",
       " 'Calle de Victoria 2 Planta 0 3 Izq., 28012 Madrid España',\n",
       " 'C Mesoneros Romano 14, 28013 Madrid España',\n",
       " 'Calle Procion 12, 28023 Madrid España',\n",
       " 'Calle de San Basilio 19, 28026 Madrid España',\n",
       " 'Calle Atocha 19 Recepcion, 28012 Madrid España',\n",
       " 'Calle de Luis de la Mata 18, 28042 Madrid España',\n",
       " 'Ávila, 14, 28020 Madrid España',\n",
       " 'Calle Puebla 15, 2º, 28004 Madrid España',\n",
       " 'Calle Caños del Peral 9, 28013 Madrid España',\n",
       " 'Calle de Alcalá 57, 28014 Madrid España',\n",
       " 'Calle Antonio Lopez 168, 28026 Madrid España',\n",
       " 'Calle Eraso 5, 28028 Madrid España',\n",
       " 'Calle Magdalena 29, 28012 Madrid España',\n",
       " 'Calle Estudios 7, 28012 Madrid España',\n",
       " 'Calle Luis Cabrera 37, 28002 Madrid España',\n",
       " 'Calle San Bartolome 7 esquina con c/ San Marcos, 28004 Madrid España',\n",
       " 'Erasmo de Rotterdam 7 Campus Universitario de Cantoblanco, 28049 Madrid España',\n",
       " 'Calle del Moscatelar, 31 Calle del Moscatelar, 31, 28043 Madrid España',\n",
       " 'Calle del Arenal, 21, Piso 1 Derecha, 28013 Madrid España',\n",
       " 'Calle Hortaleza 21 Planta 2 Puerta Dr, 28004 Madrid España',\n",
       " 'Paseo Prado 40, 28014 Madrid España',\n",
       " 'Calle de la Sierra de Alcubierre 9, 28053 Madrid España',\n",
       " 'Calle Garcia Cea 4, 28020 Madrid España',\n",
       " 'Barco 13, 3rd floor, 28004 Madrid España',\n",
       " 'Calle Donoso Cortes 69, 28015 Madrid España',\n",
       " 'C/ Mayor 1 2 Planta, Madrid España',\n",
       " 'Calle Bravo Murillo 127 2, 28020 Madrid España',\n",
       " 'Calle Juanelo 18 1 Izquierda Madrid centro, 28012 Madrid España',\n",
       " 'Calle de la Estrella 5, 28004 Madrid España',\n",
       " 'Calle de la Cruz, 26, 28012 Madrid España',\n",
       " 'Calle de Almansa 6, 28039 Madrid España',\n",
       " 'Calle Marques de La Ensenada 16, 28004 Madrid España',\n",
       " 'Calle Caballero de La Cruz 33 2o Izq., 28021 Madrid España',\n",
       " 'Rogelio Munoz 2, 28033 Madrid España',\n",
       " 'Valverde, 25, 28013 Madrid España',\n",
       " 'Calle San Vicente Ferrer 1, 28004 Madrid España',\n",
       " 'Calle Zaragoza 6, 28012 Madrid España',\n",
       " 'Calle de San Pedro 13, 28014 Madrid España',\n",
       " 'Calle Velarde 22, 28004 Madrid España',\n",
       " 'Cam. Aeropuerto, 28042 Madrid España',\n",
       " 'Calle Fuencarral 31, 28004 Madrid España',\n",
       " 'Calle Gaztambide 61, 28015 Madrid España',\n",
       " 'Gran Via 44 Planta 9 Izquierda, 28013 Madrid España',\n",
       " 'Plaza de Isabel II 1, 28013 Madrid España',\n",
       " 'Calle Hortaleza 10, 28004 Madrid España',\n",
       " 'Calle de Don Quijote 12, 28020 Madrid España',\n",
       " 'Calle de Santa Francisca Javier Cabrini 4, 28043 Madrid España',\n",
       " 'General Alvarez De Castro, 16, 28004 Madrid España',\n",
       " 'Gran Vía 44, 2º Planta Derecha, 28013 Madrid España',\n",
       " 'Calle Carretas 33, 28012 Madrid España',\n",
       " 'Carrera de San Jeronimo 32 3o Izquierda, 28014 Madrid España',\n",
       " 'Avenida Manoteras 38, 28050 Madrid España',\n",
       " 'Calle Hortaleza 31, 28004 Madrid España',\n",
       " 'Plaza Mayor 1, 28012 Madrid España',\n",
       " 'Calle Mesonero Romanos 7, 28013 Madrid España',\n",
       " 'C. Cuenca Tetuán, 28020 Madrid España',\n",
       " 'Calle Atocha 43 2 Izda, 28012 Madrid España',\n",
       " 'Calle Gran Vía 15, 28013 Madrid España',\n",
       " 'Calle de Fuencarral No 4, 4ta Izq, 28004 Madrid España',\n",
       " 'Calle Magdalena 8 Plaza de Tirso de Molina square, 28012 Madrid España',\n",
       " 'Calle de la Sierra de Meira 53, 28038 Madrid España',\n",
       " 'Calle Abril 34, 28022 Madrid España',\n",
       " 'Avenida Pio XII 34, 28016 Madrid España',\n",
       " 'Plaza Santa Barbara 4, 28004 Madrid España',\n",
       " 'Calle Burgohondo 8, 28023 Madrid España',\n",
       " 'Calle de Santa María 36, 28014 Madrid España',\n",
       " 'Ronda de Atocha, 3, 28012 Madrid España',\n",
       " '25 Calle de la Madera, 28004 Madrid España',\n",
       " 'Calle General Pardinas 13, 28001 Madrid España',\n",
       " 'Calle Hortaleza n 07, 28004 Madrid España',\n",
       " 'Calle Orense 10 Posterior, 28020 Madrid España',\n",
       " 'Calle del Aguila 19, 28005 Madrid España',\n",
       " 'Calle Marques Viudo de Pontejos 3, 28012 Madrid España',\n",
       " '47 Calle Gran Via, 28013 Madrid España',\n",
       " 'Calle de Diego de Leon 10, 28006 Madrid España',\n",
       " 'Calle Cuesta de Santo Domingo, 3 Madrid Escalera Izquierda, 1 Derecha, 28013 Madrid España',\n",
       " 'Calle Hortaleza 7, 28004 Madrid España',\n",
       " 'Calle Palma 61, 28015 Madrid España',\n",
       " '1st Fl-Right Calle Arriaza 3 Moncloa, 28008 Madrid España',\n",
       " 'Calle Almagro 10, 28010 Madrid España',\n",
       " '58 Avenida de América Local Verja/, 28028 Madrid España',\n",
       " 'Plaza de Pedro Zerolo 3, 28004 Madrid España',\n",
       " 'Calle de la Victoria 2, 1 Dcha, 28012 Madrid España',\n",
       " 'Isabel La Catolica, 11, 28013 Madrid España',\n",
       " 'Travesia Guabairo 1, 28047 Madrid España',\n",
       " 'Calle del Pez 32, 28004 Madrid España',\n",
       " 'Calle Canal de Suez 24, 28042 Madrid España',\n",
       " 'Calle del Mesón de Paredes 84, 28012 Madrid España',\n",
       " 'Calle Pedrezuela 38 Esquina con Calle Colada de Pozuelo, 28017 Madrid España',\n",
       " 'Calle San Basilio 19, 28035 Madrid España',\n",
       " '42 Calle de la Montera 5 Izquierdo, Centro, 28013 Madrid España',\n",
       " 'Calle Fuencemillan 39B, 28022 Madrid España',\n",
       " 'Calle del Marqués de la Valdavia 45, 28012 Madrid España',\n",
       " 'Calle San Modesto, 28034 Madrid España',\n",
       " 'Paseo de Santa María de la Cabeza 7, 28045 Madrid España',\n",
       " 'Calle del Mar de Omán 25, 28033 Madrid España',\n",
       " 'Calle Modesto Alonso 23, 28038 Madrid España',\n",
       " 'Travesia San Mateo 18, 28004 Madrid España',\n",
       " 'Calle Fucar 7, 28014 Madrid España',\n",
       " 'Calle Arriaza 5, 28008 Madrid España',\n",
       " 'Travesía De Los Trujillos 3, 28013 Madrid España',\n",
       " 'Calle De Andrés Mellado 24, 28015 Madrid España',\n",
       " 'Calle de Juan Álvarez Mendizábal 44, 28008 Madrid España',\n",
       " 'Calle Noviciado 7, 28015 Madrid España',\n",
       " 'Calle De Sebastian Elcano, 28012 Madrid España',\n",
       " 'Calle de Cuenca 2, 28020 Madrid España',\n",
       " 'Cost.ª De Los Ángeles, 14, 28013 Madrid España',\n",
       " 'Calle Corredera Baja de San Pablo, 4, 28004 Madrid España',\n",
       " 'Calle de San Lorenzo 26, 28004 Madrid España',\n",
       " 'Calle Don Pedro 8, 28005 Madrid España',\n",
       " 'Calle del Molino de Viento 7, 28004 Madrid España',\n",
       " 'Calle Santo Ángel 88, 28043 Madrid España',\n",
       " 'Carretas, 7 and 3, 28012 Madrid España',\n",
       " 'Calle Velarde 22, 28004 Madrid España',\n",
       " '1 Calle Mayor Apt. 17, 28013 Madrid España',\n",
       " 'Calle Ballesta 30, 28004 Madrid España',\n",
       " 'C/Santo Ángel 88, 28043 Madrid España',\n",
       " 'Calle de Concepcion Jeronima 6, 28012 Madrid España',\n",
       " '11 Calle de Griñon, 28970 Madrid España',\n",
       " 'Puerto Alto Numero 6 Primero, 28053 Madrid España',\n",
       " 'Calle del Conde de Romanones 7, 28012 Madrid España',\n",
       " 'Calle del Padre Oltra 16, 28019 Madrid España',\n",
       " 'Calle de la Cruz 14, 28012 Madrid España',\n",
       " 'Calle Prado de la Mancha Bajo, 40154 Madrid España',\n",
       " 'Calle de Rafael de Riego 24, 28045 Madrid España',\n",
       " 'Calle Segre 5, 28002 Madrid España',\n",
       " 'Calle de Juan Bravo 56, 28006 Madrid España',\n",
       " 'Calle de Juan Bravo 60, 28006 Madrid España',\n",
       " 'Calle de Concepción Jerónima 6, 28012 Madrid España',\n",
       " 'Paseo de los Olivos 109 4to D, 28011 Madrid España',\n",
       " 'Calle de Ponzano, 55, 28003 Madrid España',\n",
       " 'Calle De Atocha 28 1A, 28012 Madrid España',\n",
       " 'Calatrava Centro, 28005 Madrid España',\n",
       " 'Gran Vía Madrid, 56, 28013 Madrid España',\n",
       " 'Calle del Carmen 26, 28013 Madrid España',\n",
       " 'Calle de la Cabeza 22 Centro, 28012 Madrid España',\n",
       " 'Calle de Pérez Galdós 7, 28004 Madrid España',\n",
       " 'Calle del Conde de Romanones 10, 28012 Madrid España',\n",
       " 'Calle Santa Ana 25, 28005 Madrid España',\n",
       " 'Calle de Núñez de Balboa, 86D, 28006 Madrid España',\n",
       " 'Calle Bolsa 4, 28012 Madrid España',\n",
       " '7 Calle Barbastro, 28022 Madrid España',\n",
       " 'Avenida del Monte Igueldo 35, 28053 Madrid España',\n",
       " 'Calle Humilladero 1 Escalera 1 Planta 3, 28005 Madrid España',\n",
       " 'Calle de Francisco Navacerrada 25, 28028 Madrid España',\n",
       " 'Calle De La Pirra 44, 28022 Madrid España',\n",
       " 'Calle de Agustin Duran 21, 28028 Madrid España',\n",
       " 'Calle De La Victoria 3, Madrid España',\n",
       " 'Calle Fuentes 10 1 D Plaza de la Opera, 28013 Madrid España',\n",
       " 'San Onofre 5, 28004 Madrid España',\n",
       " 'Paseo de la Chopera, 71 BAJO;HOTEL GRAN LEGAZPI, 28045 Madrid España',\n",
       " 'Calle San Mateo 20 nº 20 2º y 3º Dcha., 28004 Madrid España',\n",
       " 'Aeropuerto de Madrid, Barajas, Terminal T4, Planta -1 (Zona tierra), 28042 Madrid España',\n",
       " 'Calle Cervantes 5, 28014 Madrid España',\n",
       " 'Calle Gran Via 70, 28015 Madrid España',\n",
       " 'Calle Julian Camarillo 19-21, 28037 Madrid España',\n",
       " 'Calle Salud, 21, 28013 Madrid España',\n",
       " 'Calle Jose Abascal 8, 28003 Madrid España',\n",
       " 'Trafalgar 35, 28010 Madrid España',\n",
       " 'Calle Miguel Angel 29-31, 28010 Madrid España',\n",
       " 'Plaza de Celenque no 1, 4 Izq Plaza de Celenque no 1, 4 Izq, 28013 Madrid España',\n",
       " 'Calle De Los Mancebos 4, 28005 Madrid España',\n",
       " 'Gran Via 15, 5th A, 28013 Madrid España',\n",
       " 'Plaza Tirso de Molina, 13, 2, D, 28012 Madrid España',\n",
       " 'Hortaleza 17 20 Izquierda, 28004 Madrid España',\n",
       " 'Calle Campezo 8, 28022 Madrid España',\n",
       " 'Calle Pez 9, 28004 Madrid España',\n",
       " 'Calle Maso 83, 28034 Madrid España',\n",
       " 'Calle Atocha No 28, 2 B, 28012 Madrid España',\n",
       " 'Calle Agustin de Foxa 25, 28046 Madrid España',\n",
       " 'Calle Alcala 2, 28014 Madrid España',\n",
       " 'Calle Montera 6, 28013 Madrid España',\n",
       " 'Calle Caballero de Gracia 16, 28013 Madrid España',\n",
       " 'Calle Francisco Medrano 4, 28020 Madrid España',\n",
       " 'Calle Gran Via 15, 28013 Madrid España',\n",
       " 'Calle de las Huertas, 28014 Madrid España',\n",
       " 'Calle Doctor Cortezo 15 4 D, 28012 Madrid España',\n",
       " 'Calle Goya 79, 28001 Madrid España',\n",
       " 'Carretera de Fuencarral al Alcobendas, Km. 8, 28050 Madrid España',\n",
       " 'Calle Moreto 9, 28014 Madrid España',\n",
       " 'Plaza Puerta del Sol 11, 28013 Madrid España',\n",
       " 'Avenida de Aragon 376, 28022 Madrid España',\n",
       " 'Calle Salustiano Olozaga 12, 28001 Madrid España',\n",
       " 'Paseo San Francisco De Sales, 28003 Madrid España',\n",
       " 'GRAN V_A; N_.- 66, 28013 Madrid España',\n",
       " 'Calle Concepción Arenal, 6, 1º, 28004 Madrid España',\n",
       " 'Santa Cruz de Marcenado 28, 28015 Madrid España',\n",
       " 'Gran Via 67, 8th Floor, 28013 Madrid España',\n",
       " 'Avda. de los Fueros 36, 28041 Madrid España',\n",
       " 'Camino Zarzuela 23, 28023 Madrid España',\n",
       " 'Avenida Padre Huidobro 2, 28040 Madrid España',\n",
       " 'C/ Claudio Coelllo, 141 Calle del Gral Oraa, 28006 Madrid España',\n",
       " 'Calle Ros de Olano 2, 28002 Madrid España',\n",
       " 'Avenida Hispanidad 12 Complejo Senasa - Aeropuerto de Barajas, 28042 Madrid España',\n",
       " '2, Calle de Luchana, 27, 28010 Madrid España',\n",
       " 'Calle Cruz 5, 28012 Madrid España',\n",
       " 'Carretera Villaverde a Vallecas Km 3 5, 28041 Madrid España',\n",
       " 'Calle Doctor Cortezo No. 15, 28012 Madrid España',\n",
       " 'Calle Gran Via 61, 28013 Madrid España',\n",
       " 'Calle Fuencarral 14, 28004 Madrid España',\n",
       " 'Calle Barbieri 5, 28004 Madrid España',\n",
       " '200 Cra Barcelona Km 14, 28042 Madrid España',\n",
       " 'Calle Hermosilla 20, 28001 Madrid España',\n",
       " 'Calle Juanelo 24, 28012 Madrid España',\n",
       " 'Calle Luis Cabrera 37, 28002 Madrid España',\n",
       " 'Calle Conde de Xiquena 4, 28004 Madrid España',\n",
       " 'C/ Rey Francisco, 5 - 3oC, 28008 Madrid España',\n",
       " 'Calle de Monteleon 6 Bajo 2, 28015 Madrid España',\n",
       " 'Calle Hierro 1, 28045 Madrid España',\n",
       " 'Calle Arturo Soria 14, 28027 Madrid España',\n",
       " 'Calle Atocha 123, 28012 Madrid España',\n",
       " 'Calle Hierbabuena 22, 28039 Madrid España',\n",
       " 'Plaza Santa Ana 15 2nd Floor, 28012 Madrid España',\n",
       " 'Calle Zaragoza Col. Centro 6, 91000 Madrid España',\n",
       " 'Calle Gobernador 11, 28014 Madrid España',\n",
       " 'Calle Fuencarral 52, 28004 Madrid España',\n",
       " 'Calle Leganitos 41, 28013 Madrid España',\n",
       " 'Calle Montera 47, 28013 Madrid España',\n",
       " 'Calle Málaga No12 5A, 28944 Madrid España',\n",
       " 'Calle Jesús Y María 12, 28012 Madrid España',\n",
       " 'Calle Pinzon 16 1º Planta Puerta 1, 28025 Madrid España',\n",
       " 'Calle de Ferraz, 28008 Madrid España',\n",
       " 'Calle Gran Via 48, 28004 Madrid España',\n",
       " 'calle mayor 10,4th, 28013 Madrid España',\n",
       " 'Gran Via 64, 6º piso Dcha, 28013 Madrid España',\n",
       " 'Plaza del Conde de Miranda 1, 28005 Madrid España',\n",
       " 'Calle Cervantes 34 3rd Floor, 28014 Madrid España']"
      ]
     },
     "execution_count": 33,
     "metadata": {},
     "output_type": "execute_result"
    }
   ],
   "source": [
    "from410 = list(hoteles.ubicacion[410::])"
   ]
  },
  {
   "cell_type": "code",
   "execution_count": 34,
   "id": "12664b67",
   "metadata": {},
   "outputs": [
    {
     "name": "stderr",
     "output_type": "stream",
     "text": [
      "100%|████████████████████████████████████████████████████████████████████████████████| 435/435 [31:07<00:00,  4.29s/it]\n"
     ]
    }
   ],
   "source": [
    "system_content='''\n",
    "You are a data wrangler. The input will be an address. \n",
    "\n",
    "The target is to extract the address corrected and simplified.\n",
    "Do not write anything else than the street name, number, zip code and city. \n",
    "In case of the address being already simplified, leave it as it is. In case of not being able to cimplify it, leave it as it is.\n",
    "\n",
    "Example:\n",
    "INPUT : 'Mejia Lequerica 10. Mercado Barceló. Madrid Mercado Barceló - Segunda Planta Interior. Referencia: Acceso Frente Al Hotel Eurostars., 28004, Madrid'\n",
    "OUTPUT : 'Calle de Mejía Lequerica, 10, 28004, Madrid'\n",
    "\n",
    "Example 2:\n",
    "INPUT: 'C / Gran Vía, 55 Oven, Steakburger y Pura Kaffeina, 28013, Madrid'\n",
    "OUTPUT: 'Calle Gran Vía, 55, 28013, Madrid'\n",
    "\n",
    "Example 3:\n",
    "INPUT: 'Calle Gran Via 80 Junto a Plaza de España, 28013 Madrid España'\n",
    "OUTPUT: 'Calle Gran Vía, 80, 28013, Madrid'\n",
    "\n",
    "'''\n",
    "#%%time\n",
    "direccion = []\n",
    "\n",
    "for e in tqdm(from410):\n",
    "    response=openai.ChatCompletion.create(model='gpt-3.5-turbo', \n",
    "                                          messages=[{'role': 'system', 'content': system_content},\n",
    "                                                    {'role': 'user', 'content': e}])\n",
    "\n",
    "    direccion.append(response['choices'][0]['message']['content'])\n",
    "    time.sleep(3)"
   ]
  },
  {
   "cell_type": "code",
   "execution_count": 23,
   "id": "f00ab1b1",
   "metadata": {},
   "outputs": [],
   "source": [
    "hoteles.reset_index(drop=True, inplace=True)"
   ]
  },
  {
   "cell_type": "code",
   "execution_count": 43,
   "id": "3f50078d",
   "metadata": {},
   "outputs": [
    {
     "data": {
      "text/plain": [
       "845"
      ]
     },
     "execution_count": 43,
     "metadata": {},
     "output_type": "execute_result"
    }
   ],
   "source": [
    "index = list(range(0,len(direccion)))\n",
    "len(index)"
   ]
  },
  {
   "cell_type": "code",
   "execution_count": 45,
   "id": "d61524e2",
   "metadata": {},
   "outputs": [],
   "source": [
    "for i in range(len(index)):\n",
    "    hoteles.at[index[i], 'ubicacion'] = direccion[i]"
   ]
  },
  {
   "cell_type": "code",
   "execution_count": 48,
   "id": "646ff89e",
   "metadata": {},
   "outputs": [
    {
     "name": "stderr",
     "output_type": "stream",
     "text": [
      "100%|████████████████████████████████████████████████████████████████████████████████| 845/845 [07:05<00:00,  1.98it/s]\n"
     ]
    }
   ],
   "source": [
    "lat = []\n",
    "long = []\n",
    "\n",
    "geolocator = Nominatim(user_agent=\"my_app\")\n",
    "\n",
    "for e in tqdm(hoteles.ubicacion):\n",
    "    try:\n",
    "        loc = geolocator.geocode(e)\n",
    "        lat.append(loc.latitude)\n",
    "        long.append(loc.longitude)\n",
    "    except:\n",
    "        lat.append('No disponible')\n",
    "        long.append('No disponible')"
   ]
  },
  {
   "cell_type": "code",
   "execution_count": 49,
   "id": "a5a80222",
   "metadata": {},
   "outputs": [],
   "source": [
    "hoteles['lat'] = lat\n",
    "hoteles['long'] = long"
   ]
  },
  {
   "cell_type": "code",
   "execution_count": 54,
   "id": "c159ef26",
   "metadata": {},
   "outputs": [],
   "source": [
    "hoteles.drop(hoteles[hoteles.lat == 'No disponible'].index, inplace = True)"
   ]
  },
  {
   "cell_type": "code",
   "execution_count": 58,
   "id": "d1cdbc3c",
   "metadata": {},
   "outputs": [],
   "source": [
    "hoteles.to_csv('../hoteles/hoteles-mad-ubi.csv', index = False)"
   ]
  },
  {
   "cell_type": "code",
   "execution_count": 90,
   "id": "744b9c04",
   "metadata": {},
   "outputs": [],
   "source": [
    "servs = []\n",
    "for e in hoteles.serv_hab:\n",
    "    servs.append(e.replace('\"','').replace('[','').replace(']','').split(','))"
   ]
  },
  {
   "cell_type": "code",
   "execution_count": 93,
   "id": "660a5e2f",
   "metadata": {},
   "outputs": [],
   "source": [
    "hoteles['serv_hab'] = servs"
   ]
  },
  {
   "cell_type": "code",
   "execution_count": 97,
   "id": "ec13fc9d",
   "metadata": {},
   "outputs": [],
   "source": [
    "rooms = []\n",
    "\n",
    "for e in hoteles.tipo_hab:\n",
    "    rooms.append(e.replace('\"','').replace('[','').replace(']','').split(','))"
   ]
  },
  {
   "cell_type": "code",
   "execution_count": 99,
   "id": "ec5b7d84",
   "metadata": {},
   "outputs": [],
   "source": [
    "hoteles['tipo_hab'] = rooms"
   ]
  },
  {
   "cell_type": "code",
   "execution_count": null,
   "id": "ec668b60",
   "metadata": {},
   "outputs": [],
   "source": []
  },
  {
   "cell_type": "code",
   "execution_count": 102,
   "id": "75dfb92f",
   "metadata": {},
   "outputs": [],
   "source": [
    "dummies = hoteles['serv_hab'].apply(lambda x: pd.Series([1]*len(x), index=x)).fillna(0, downcast='infer')"
   ]
  },
  {
   "cell_type": "code",
   "execution_count": 103,
   "id": "957eeff4",
   "metadata": {},
   "outputs": [],
   "source": [
    "dummies2 = hoteles['tipo_hab'].apply(lambda x: pd.Series([1]*len(x), index=x)).fillna(0, downcast='infer')"
   ]
  },
  {
   "cell_type": "code",
   "execution_count": 104,
   "id": "88f1feae",
   "metadata": {},
   "outputs": [],
   "source": [
    "hotel = pd.concat([hoteles, dummies, dummies2], axis = 1)"
   ]
  },
  {
   "cell_type": "code",
   "execution_count": 106,
   "id": "1e07646c",
   "metadata": {},
   "outputs": [],
   "source": [
    "hotel.to_csv('../hoteles/hoteles-mad-dummies.csv', index = False)"
   ]
  },
  {
   "cell_type": "code",
   "execution_count": 130,
   "id": "b327b648",
   "metadata": {},
   "outputs": [],
   "source": [
    "hotel2 = pd.read_csv('../hoteles/hoteles-mad-dummies.csv')"
   ]
  },
  {
   "cell_type": "code",
   "execution_count": 133,
   "id": "82b0890c",
   "metadata": {},
   "outputs": [],
   "source": [
    "hotel2.drop(columns = ['serv_hab','tipo_hab','link'], inplace = True)"
   ]
  },
  {
   "cell_type": "code",
   "execution_count": 136,
   "id": "04347ca0",
   "metadata": {},
   "outputs": [],
   "source": [
    "precio = []\n",
    "for e in hotel2.precio:\n",
    "    if e == 'No disponible':\n",
    "        precio.append(0)\n",
    "    else:\n",
    "        e = e.replace('.','')\n",
    "        precio.append(int(e[:-2]))"
   ]
  },
  {
   "cell_type": "code",
   "execution_count": 137,
   "id": "bd6e91d6",
   "metadata": {},
   "outputs": [],
   "source": [
    "hotel2['precio'] = precio "
   ]
  },
  {
   "cell_type": "code",
   "execution_count": 142,
   "id": "b608830f",
   "metadata": {},
   "outputs": [],
   "source": [
    "punt = []\n",
    "for e in hotel2.puntuacion:\n",
    "    punt.append(e.replace(',','.'))"
   ]
  },
  {
   "cell_type": "code",
   "execution_count": 144,
   "id": "aef34979",
   "metadata": {},
   "outputs": [],
   "source": [
    "hotel2['puntuacion'] = punt"
   ]
  },
  {
   "cell_type": "code",
   "execution_count": 149,
   "id": "f6642417",
   "metadata": {},
   "outputs": [],
   "source": [
    "hotel2 = hotel2.reset_index(drop = True)"
   ]
  },
  {
   "cell_type": "code",
   "execution_count": 150,
   "id": "e47d61b7",
   "metadata": {},
   "outputs": [],
   "source": [
    "hotel2.to_csv('../hoteles/hoteles-mad-dummies.csv', index = False)"
   ]
  },
  {
   "cell_type": "code",
   "execution_count": null,
   "id": "e90e788e",
   "metadata": {},
   "outputs": [],
   "source": []
  }
 ],
 "metadata": {
  "kernelspec": {
   "display_name": "Python 3 (ipykernel)",
   "language": "python",
   "name": "python3"
  },
  "language_info": {
   "codemirror_mode": {
    "name": "ipython",
    "version": 3
   },
   "file_extension": ".py",
   "mimetype": "text/x-python",
   "name": "python",
   "nbconvert_exporter": "python",
   "pygments_lexer": "ipython3",
   "version": "3.9.13"
  }
 },
 "nbformat": 4,
 "nbformat_minor": 5
}
